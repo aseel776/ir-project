{
 "cells": [
  {
   "cell_type": "code",
   "execution_count": 2,
   "id": "502fc94e",
   "metadata": {},
   "outputs": [],
   "source": [
    "import sys\n",
    "import os\n",
    "\n",
    "# Adding src path so we can import modules\n",
    "src_path = os.path.abspath(os.path.join('..', '..',))\n",
    "\n",
    "if src_path not in sys.path:\n",
    "    sys.path.append(src_path)"
   ]
  },
  {
   "cell_type": "code",
   "execution_count": 4,
   "id": "af677558",
   "metadata": {},
   "outputs": [
    {
     "name": "stdout",
     "output_type": "stream",
     "text": [
      "processing 152\n",
      "Retrieved IDs\n",
      "[43849, 468356, 1117164, 1375828, 1940119, 2104807, 3188479, 3602237, 3782101, 4853061, 5072804, 6014242, 6443785, 7021576, 7362741, 8660233, 9627851, 9704560, 10092382, 10271274, 13391547, 13398821, 14821387, 16271350, 16357786, 17190300, 20148252, 20649332, 21148128, 21292979, 21577731, 22368728, 22394027, 22622597, 22798538, 23304312, 23684700, 23926423, 24292756, 27229377, 27397030, 27909271, 28344827, 29372030, 30063538, 30863530, 31778094, 33352043, 33532464, 33541817, 33792752, 33948002, 34439954, 36546686, 37164550, 37729380, 38778468, 39483099, 39540459, 40074690, 41041709, 41076383, 41677435, 41701432, 43667097, 43692108, 44420919, 44750421, 44797423, 45448520, 47143775, 47653868, 48422778, 48432306, 49098297, 49337071, 50914470, 54895186, 56179024, 56369247, 56542832, 56585748, 56939117, 57499409, 57839238, 57864964, 58124647, 58975000, 59918383, 60006359, 60623569, 61095254, 61657475, 63645279, 66412215, 66947886, 67949246, 68220312, 68717580, 69119755]\n",
      "Relevant IDs\n",
      "[1940119]\n",
      "Retrieved at 10\n",
      "[43849, 468356, 1117164, 1375828, 1940119, 2104807, 3188479, 3602237, 3782101, 4853061]\n",
      "Relevant and Retrieved\n",
      "[1940119]\n",
      "Precision@10 is: 0.1\n",
      "Recall is: 1.0\n",
      "-------------------------------------\n",
      "Average Recall is: 1.0\n"
     ]
    }
   ],
   "source": [
    "from core.base_urls import SEARCHING_URL\n",
    "from core.datasets import dataset_1_test\n",
    "from utils.extracting import extract_doc_ids\n",
    "from evaluation.precision import get_precision_at_k\n",
    "from evaluation.recall import get_recall\n",
    "import requests\n",
    "\n",
    "queries = dataset_1_test.queries_iter()\n",
    "qrels = dataset_1_test.qrels_iter()\n",
    "\n",
    "count = 0\n",
    "recalls = []\n",
    " \n",
    "\n",
    "for query in queries:\n",
    "    if count == 1:\n",
    "        break\n",
    "\n",
    "    query_id = query.query_id\n",
    "    print(f'processing {query_id}')\n",
    "\n",
    "    # get matching results\n",
    "    search_text = query.text\n",
    "    request_body = {\n",
    "        'dataset_id': 1,\n",
    "        'search_text': search_text,\n",
    "    }\n",
    "    response = requests.post(SEARCHING_URL, json = request_body)    \n",
    "\n",
    "    if response.status_code == 200:\n",
    "        # get retrieved docs\n",
    "        retrieved_docs = response.json()['data']\n",
    "        retrieved_ids = extract_doc_ids(retrieved_docs)\n",
    "\n",
    "        print('Retrieved IDs')\n",
    "        print(retrieved_ids)\n",
    "\n",
    "        # get relevant docs\n",
    "        relevant_ids = [qrel.doc_id for qrel in qrels if qrel.query_id == query_id]\n",
    "        # convert ids to int\n",
    "        relevant_ids = [int(id) for id in relevant_ids]\n",
    "\n",
    "        print('Relevant IDs')\n",
    "        print(relevant_ids)\n",
    "\n",
    "        # calc precision@10\n",
    "        precision = get_precision_at_k(retrieved_ids, relevant_ids, 10)\n",
    "        print(f'Precision@10 is: {precision}')\n",
    "\n",
    "        # calc recall@10\n",
    "        recall = get_recall(retrieved_ids, relevant_ids)\n",
    "        print(f'Recall is: {recall}')\n",
    "        recalls.append(recall)\n",
    "        print('-------------------------------------')\n",
    "\n",
    "        count = count + 1\n",
    "\n",
    "# calc for all queries recall\n",
    "avg_recall = sum(recalls) / len(recalls) if len(recalls) > 0 else 0\n",
    "print(f'Average Recall is: {avg_recall}')"
   ]
  },
  {
   "cell_type": "code",
   "execution_count": null,
   "id": "10c57ab5",
   "metadata": {},
   "outputs": [],
   "source": []
  }
 ],
 "metadata": {
  "kernelspec": {
   "display_name": "Python 3 (ipykernel)",
   "language": "python",
   "name": "python3"
  },
  "language_info": {
   "codemirror_mode": {
    "name": "ipython",
    "version": 3
   },
   "file_extension": ".py",
   "mimetype": "text/x-python",
   "name": "python",
   "nbconvert_exporter": "python",
   "pygments_lexer": "ipython3",
   "version": "3.12.0"
  }
 },
 "nbformat": 4,
 "nbformat_minor": 5
}
